{
 "cells": [
  {
   "cell_type": "code",
   "execution_count": 2,
   "metadata": {},
   "outputs": [],
   "source": [
    "import os\n",
    "import json\n",
    "from dotenv import load_dotenv\n",
    "\n",
    "# Add OpenAI import\n",
    "from openai import AzureOpenAI"
   ]
  },
  {
   "cell_type": "code",
   "execution_count": 3,
   "metadata": {},
   "outputs": [],
   "source": [
    "from langchain_community.document_loaders import TextLoader\n",
    "from langchain_openai import AzureChatOpenAI, AzureOpenAIEmbeddings\n",
    "from langchain.chains import RetrievalQA\n",
    "from langchain_core.output_parsers import StrOutputParser\n",
    "from langchain.vectorstores.azuresearch import AzureSearch\n",
    "from langchain.text_splitter import CharacterTextSplitter\n",
    "from azure.search.documents.indexes.models import (\n",
    "    FreshnessScoringFunction,\n",
    "    FreshnessScoringParameters,\n",
    "    ScoringProfile,\n",
    "    SearchableField,\n",
    "    SearchField,\n",
    "    SearchFieldDataType,\n",
    "    SimpleField,\n",
    "    TextWeights,\n",
    ")\n",
    "from tqdm import tqdm\n",
    "import os\n",
    "import pandas as pd\n",
    "import nest_asyncio\n",
    "nest_asyncio.apply()\n",
    "import warnings\n",
    "warnings.filterwarnings(\"ignore\") "
   ]
  },
  {
   "cell_type": "code",
   "execution_count": 30,
   "metadata": {},
   "outputs": [],
   "source": [
    "# Get configuration settings \n",
    "load_dotenv()\n",
    "azure_oai_endpoint = os.getenv(\"AZURE_OAI_ENDPOINT\")\n",
    "azure_oai_key = os.getenv(\"AZURE_OAI_KEY\")\n",
    "azure_openai_api_key = os.getenv(\"AZURE_OAI_KEY\")\n",
    "azure_oai_deployment = os.getenv(\"AZURE_OAI_DEPLOYMENT\")\n",
    "azure_oai_text_deployment = os.getenv(\"AZURE_OAI_TEXT_DEPLOYMENT\")\n",
    "azure_search_endpoint = os.getenv(\"AZURE_SEARCH_ENDPOINT\")\n",
    "azure_search_key = os.getenv(\"AZURE_SEARCH_KEY\")\n",
    "azure_search_index = os.getenv(\"AZURE_SEARCH_INDEX\")"
   ]
  },
  {
   "cell_type": "code",
   "execution_count": 16,
   "metadata": {},
   "outputs": [
    {
     "data": {
      "text/plain": [
       "'codeninjastextemdmodel'"
      ]
     },
     "execution_count": 16,
     "metadata": {},
     "output_type": "execute_result"
    }
   ],
   "source": [
    "azure_oai_text_deployment"
   ]
  },
  {
   "cell_type": "code",
   "execution_count": 37,
   "metadata": {},
   "outputs": [],
   "source": [
    "vector_store_address = os.getenv(\"AZURE_SEARCH_ENDPOIND\")\n",
    "vector_store_password = os.getenv(\"AZURE_SEARCH_KEY\")"
   ]
  },
  {
   "cell_type": "code",
   "execution_count": 39,
   "metadata": {},
   "outputs": [
    {
     "data": {
      "text/plain": [
       "'https://cognitive-search-lab7.search.windows.net'"
      ]
     },
     "execution_count": 39,
     "metadata": {},
     "output_type": "execute_result"
    }
   ],
   "source": [
    "azure_search_endpoint"
   ]
  },
  {
   "cell_type": "code",
   "execution_count": 6,
   "metadata": {},
   "outputs": [],
   "source": [
    "def split_doc(filename_):\n",
    "    print(f'Reading - {filename_}')\n",
    "    loader = TextLoader(filename_, encoding=\"utf-8\")\n",
    "    documents = loader.load()\n",
    "    text_splitter = CharacterTextSplitter(chunk_size=2500, chunk_overlap=0)\n",
    "    docs = text_splitter.split_documents(documents)\n",
    "    return docs\n",
    "\n",
    "def add_metadata(data,time):\n",
    "    for chunk in data:\n",
    "        chunk.metadata['last_update'] = time\n",
    "    return data"
   ]
  },
  {
   "cell_type": "code",
   "execution_count": 7,
   "metadata": {},
   "outputs": [
    {
     "name": "stdout",
     "output_type": "stream",
     "text": [
      "Reading - MSFT_q1_2024.txt\n",
      "Reading - MSFT_q2_2024.txt\n"
     ]
    }
   ],
   "source": [
    "msft_q1 = split_doc('MSFT_q1_2024.txt')\n",
    "msft_q2 = split_doc('MSFT_q2_2024.txt')"
   ]
  },
  {
   "cell_type": "code",
   "execution_count": 8,
   "metadata": {},
   "outputs": [],
   "source": [
    "# Adding same data with different last_update \n",
    "from datetime import datetime, timedelta\n",
    "\n",
    "q2_time = (datetime.utcnow() - timedelta(days=90)).strftime(\n",
    "    \"%Y-%m-%dT%H:%M:%S-00:00\"\n",
    ")\n",
    "q1_time = (datetime.utcnow() - timedelta(days=180)).strftime(\n",
    "    \"%Y-%m-%dT%H:%M:%S-00:00\"\n",
    ")"
   ]
  },
  {
   "cell_type": "code",
   "execution_count": 9,
   "metadata": {},
   "outputs": [
    {
     "data": {
      "text/plain": [
       "('2024-01-29T00:47:33-00:00', '2023-10-31T00:47:33-00:00')"
      ]
     },
     "execution_count": 9,
     "metadata": {},
     "output_type": "execute_result"
    }
   ],
   "source": [
    "q2_time,q1_time"
   ]
  },
  {
   "cell_type": "code",
   "execution_count": 10,
   "metadata": {},
   "outputs": [],
   "source": [
    "documents = msft_q1 + msft_q2"
   ]
  },
  {
   "cell_type": "code",
   "execution_count": 11,
   "metadata": {},
   "outputs": [
    {
     "data": {
      "text/plain": [
       "51"
      ]
     },
     "execution_count": 11,
     "metadata": {},
     "output_type": "execute_result"
    }
   ],
   "source": [
    "len(documents)"
   ]
  },
  {
   "cell_type": "code",
   "execution_count": 12,
   "metadata": {},
   "outputs": [
    {
     "data": {
      "text/plain": [
       "Document(page_content=\"Operator\\n\\nGreetings and welcome to the Microsoft fiscal year 2024 first quarter earnings conference call. At this time, all participants are in a listen-only mode. A question-and-answer session will follow the formal presentation. [Operator instructions] As a reminder, this conference is being recorded.\\n\\nI would now like to turn the call over to your host, Brett Iversen, vice president of investor relations. Mr. Iversen, please go ahead. \\n\\nBrett Iversen -- General Manager, Investor Relations\\n\\nGood afternoon and thank you for joining us today. On the call with me are Satya Nadella, chairman and chief executive officer; Amy Hood, chief financial officer; Alice Jolla, chief accounting officer; and Keith Dolliver, corporate secretary and deputy general counsel. On the Microsoft investor relations website, you can find our earnings press release and financial summary slide deck, which is intended to supplement our prepared remarks during today's call and provides a reconciliation of differences between GAAP and non-GAAP financial measures. More detailed outlook slides will be available on the Microsoft investor relations website when we provide outlook commentary on today's call.\\n\\nMicrosoft completed the acquisition of Activision Blizzard on October 13, 2023. We will share more on the expected impact of the Activision acquisition during the outlook commentary portion of today's call. On this call, we will discuss certain non-GAAP items. The non-GAAP financial measures provided should not be considered as a substitute for or superior to the measures of financial performance prepared in accordance with GAAP.\\n\\nThey are included as additional clarifying items to aid investors in further understanding the company's first quarter performance in addition to the impact these items and events have on the financial results. All growth comparisons we make on the call today relate to the corresponding period of last year, unless otherwise noted. We will also provide growth rates in constant currency when available as a framework for assessing how our underlying businesses performed, excluding the effect of foreign currency rate fluctuations. Where growth rates are the same in constant currency, we'll refer to the growth rate only.\", metadata={'source': 'MSFT_q1_2024.txt'})"
      ]
     },
     "execution_count": 12,
     "metadata": {},
     "output_type": "execute_result"
    }
   ],
   "source": [
    "documents[0]"
   ]
  },
  {
   "cell_type": "code",
   "execution_count": 17,
   "metadata": {},
   "outputs": [],
   "source": [
    "# # Initialize the Azure OpenAI client\n",
    "# client = AzureOpenAI(\n",
    "#     base_url=f\"{azure_oai_endpoint}/openai/deployments/{azure_oai_text_deployment}/extensions\",\n",
    "#     api_key=azure_oai_key,\n",
    "#     api_version=\"2023-09-01-preview\")"
   ]
  },
  {
   "cell_type": "code",
   "execution_count": 31,
   "metadata": {},
   "outputs": [],
   "source": [
    "embeddings = AzureOpenAIEmbeddings(\n",
    "    azure_deployment=azure_oai_text_deployment,\n",
    "    api_key=azure_openai_api_key,\n",
    "    azure_endpoint=azure_oai_endpoint\n",
    ")\n",
    "embedding_function=embeddings.embed_query"
   ]
  },
  {
   "cell_type": "code",
   "execution_count": 26,
   "metadata": {},
   "outputs": [],
   "source": [
    "fields = [\n",
    "    SimpleField(\n",
    "        name=\"id\",\n",
    "        type=SearchFieldDataType.String,\n",
    "        key=True,\n",
    "        filterable=True,\n",
    "    ),\n",
    "    SearchableField(\n",
    "        name=\"content\",\n",
    "        type=SearchFieldDataType.String,\n",
    "        searchable=True,\n",
    "    ),\n",
    "    SearchField(\n",
    "        name=\"content_vector\",\n",
    "        type=SearchFieldDataType.Collection(SearchFieldDataType.Single),\n",
    "        searchable=True,\n",
    "        vector_search_dimensions=len(embedding_function(\"Text\")),\n",
    "        vector_search_profile_name=\"myHnswProfile\",\n",
    "    ),\n",
    "    SearchableField(\n",
    "        name=\"metadata\",\n",
    "        type=SearchFieldDataType.String,\n",
    "        searchable=True,\n",
    "    ),\n",
    "    # Additional field for filtering on document source\n",
    "    SimpleField(\n",
    "        name=\"source\",\n",
    "        type=SearchFieldDataType.String,\n",
    "        filterable=True,\n",
    "    ),\n",
    "    # Additional data field for last doc update\n",
    "    SimpleField(\n",
    "        name=\"last_update\",\n",
    "        type=SearchFieldDataType.DateTimeOffset,\n",
    "        searchable=True,\n",
    "        filterable=True,\n",
    "    ),\n",
    "]\n",
    "# Adding a custom scoring profile with a freshness function\n",
    "sc_name = \"scoring_profile\"\n",
    "sc = ScoringProfile(\n",
    "    name=sc_name,\n",
    "    text_weights=TextWeights(weights={\"content\": 5}),\n",
    "    function_aggregation=\"sum\",\n",
    "    functions=[\n",
    "        FreshnessScoringFunction(\n",
    "            field_name=\"last_update\",\n",
    "            boost=100,\n",
    "            parameters=FreshnessScoringParameters(boosting_duration=\"P2D\"),\n",
    "            interpolation=\"linear\",\n",
    "        )\n",
    "    ],\n",
    ")"
   ]
  },
  {
   "cell_type": "code",
   "execution_count": 28,
   "metadata": {},
   "outputs": [],
   "source": [
    "from azure.identity import DefaultAzureCredential\n",
    "credential = DefaultAzureCredential()"
   ]
  },
  {
   "cell_type": "code",
   "execution_count": 36,
   "metadata": {},
   "outputs": [],
   "source": [
    "vector_store_address"
   ]
  },
  {
   "cell_type": "code",
   "execution_count": 40,
   "metadata": {},
   "outputs": [],
   "source": [
    "index_name = \"earning_call-scoring-profile\"\n",
    "\n",
    "vector_store: AzureSearch = AzureSearch(\n",
    "    azure_search_endpoint=azure_search_endpoint,\n",
    "    azure_search_key=azure_search_key,\n",
    "    index_name=index_name,\n",
    "    embedding_function=embeddings.embed_query,\n",
    "    fields=fields,\n",
    "    scoring_profiles=[sc],\n",
    "    default_scoring_profile=sc_name,\n",
    ")"
   ]
  },
  {
   "cell_type": "code",
   "execution_count": 43,
   "metadata": {},
   "outputs": [
    {
     "name": "stdout",
     "output_type": "stream",
     "text": [
      "CPU times: total: 1.11 s\n",
      "Wall time: 10.5 s\n"
     ]
    },
    {
     "data": {
      "text/plain": [
       "['MjVkY2ZjOTEtMzU4Mi00NDg5LTg5MmEtZDE3OTc0MWQ1YWJh',\n",
       " 'YmY5OWQ3MWEtMWYyMy00MzgwLTlkYWItN2NiMzVmNGVlZmE5',\n",
       " 'ZGFhYjk0NjAtMTBkMC00OWM5LThmZDgtYjQ3MmUzNjFkMjgw',\n",
       " 'ZDk4OTM2NzgtOWI0NS00NzZiLWIxNzgtM2QyYzg5NjZmNzY5',\n",
       " 'ZGEwZmViMmQtMGVkNS00ZWMwLThmMTQtZGE5ZWJkZTVlNjlh',\n",
       " 'OGRkOWUwOTMtMGE1Mi00MDdmLTk5YTItOGYyNjc0ZTc4YWU4',\n",
       " 'YTkwYjhmMjktZjk1OS00MjVkLThkN2QtMTM2MzM1Y2ZiYjc4',\n",
       " 'ZWM0YjY3MWItNjlmYy00NTBlLWJiZmMtZTQ0MDQ0NWI4MzMz',\n",
       " 'OTAxZTc2NzItZWY0OC00MWY5LTllYjItMjFlZDIxMTQxNDdj',\n",
       " 'NTU2NmU4N2UtMTEyNS00NmIzLTlmMTktZTJmNzFmNTYxMTk4',\n",
       " 'ZjMyZThkZGItYjE5Yy00ZWJlLWE3NzQtMThkZWRkMzZmNDc1',\n",
       " 'MTM3OWIxNDAtZDIzNi00MzM1LTgxNjYtZWZkOWJiMjdkMDMz',\n",
       " 'MjAyNTQ5M2EtZWU5Zi00NDNmLThmZGYtMjcwYzc3MTJlOTNi',\n",
       " 'NzgzMGNiZjgtMDU0Mi00MGQ3LTk0NjktZDFjODNmNDA2Njdi',\n",
       " 'NTdmYTgyZGMtZWZjOC00YWVhLTllZjItMjYxYmNjNTRjZGUw',\n",
       " 'NGQ3MDQxZGUtNzllMS00NmY2LWI0NDYtNDU5OTJkYmVkMDEy',\n",
       " 'MWU2MDIyNjgtMWZlNS00Mzc5LTgwZmItMDM5YWQwYzdiMTVj',\n",
       " 'Yzg5NjE5M2ItYmQ1YS00NjVhLTk3MjItNTJjMjlmMTRlMTYx',\n",
       " 'MmQwOTc2ZmYtNjFkZi00YmVmLWJiNTEtZjEzNzhjMjkxODY1',\n",
       " 'OWU1YmNiMzAtZGU2Mi00NzIyLWJiMTYtYjM3ZjVmNTBlZmEx',\n",
       " 'MjhhYzFiMGQtNzA4NS00MmFmLTg3Y2ItM2QyNjYyMmY1ZjQ2',\n",
       " 'NzFhYjIyZWItZGE5Ny00NTdlLWIzM2ItNzJjNzdkMTBiMjYy',\n",
       " 'OTZkODUxMGMtMjRkZS00YmU3LThlYjQtMWEyODZhOTllZDUw',\n",
       " 'ZDE5MzcyZmQtZjcwMy00MGQ4LWI3NTAtZjBlNWYzZDI1NGEz',\n",
       " 'NDJjMDE0MjMtNjM2NC00OTBhLTk4ZGEtYjJiYTc5MTIwZjRk',\n",
       " 'NGI4Nzc1MDMtZjJiOC00YjZlLWFiNTYtYzM0OWUwNDhiYmI4',\n",
       " 'M2FkMDIyMzEtNWFlZS00Y2JjLWIzYzktZGRjZjAxOGQ3OGVl',\n",
       " 'NmZjNDE5NTMtNzVkMC00Y2U4LWI3NzktZjc0MGRjOTYzNDgw',\n",
       " 'OWFjNjc0NTEtMGU5Yi00N2JjLTlmZTEtNjUzYjk1YzQ0NzY5',\n",
       " 'MDY5NjFiNTItMDhlMy00Mzk5LTk1MDUtMmRiNmM3NjdkY2M5',\n",
       " 'YzllMjZjMjYtNGQ3Yi00M2NmLWJkNjgtZDVkYzA0NmUyYzAy',\n",
       " 'YzdiZWQ1MWYtZWVhZi00MTMzLWEyYjEtYjBmMmJjMDM5Nzkw',\n",
       " 'NzhmMWRhNzQtNjRlNi00MzhkLWExMTAtM2NiY2MwZDI5NGNj',\n",
       " 'Nzg4ZDc5NTItNWQ1Yy00ZmUzLTllNDktOWVkYmU5OGUwMjQy',\n",
       " 'OTc1MDkzOTItMjdjNS00NTM2LTllZDAtZGRlNWE3YzVkMDQx',\n",
       " 'MmVlNzhkZjAtMDllMS00NWI4LTlmMWMtYzgzYmU4MjE0ZWVl',\n",
       " 'N2FjM2NkYTQtMGEwMC00ZmNhLWJlODQtZmU5YmJmZDM1NzBh',\n",
       " 'ODIwZGRhZmMtOWI5NC00ODcwLTk0ZGEtYzE0Yjk0ZTRlMTU3',\n",
       " 'ZTUxZTYwOWUtZDJlNC00OGRkLTk4NDMtMzRmNjNlMTIzOWYw',\n",
       " 'MGNiODhjM2EtZTkxOS00M2QzLTk0M2QtMWZjYTk4NjQwZmFl',\n",
       " 'NzU2OTVhMDQtMTU5Yi00ZmM4LThlNDYtZGZjMmE3NmM4Y2U4',\n",
       " 'M2IzYjU0NDUtMzkwMC00N2ZkLTk0NTQtMWJjZGEzYTQzOTcx',\n",
       " 'ZjIzNWRlODAtOWMwMy00ZDIwLWIzMzgtMWZhZmEzMjQ1YTg2',\n",
       " 'MjEwOWMxNWItMmNlNy00Y2M4LWE2ZDktMWExMDgyYjY4ZWQ1',\n",
       " 'YWNlNTZjNGYtMmZiMy00Yjg3LTliYjctYzk1NDQ2Mjc3N2E2',\n",
       " 'MTRmM2NmNTYtZTlmNS00OGQxLWFlZTMtMGZjNTE2Zjg2MGY5',\n",
       " 'ZjJiMzc1ZTktYTY2Zi00MjhjLWE5MDQtOGFjN2EyOTZhMGIw',\n",
       " 'M2I2M2EyNGQtZTlhMi00NjljLTk5NDYtZWNmYTdmZTk1ZTdi',\n",
       " 'OTllYjBjYjAtYjc3Yy00NzhjLTg0NmEtZWM0OTE0MWFjMDBk',\n",
       " 'YjVhMjY2NDEtMjQ2NS00NmQyLWExODctOWQ2Nzk1MWU1M2Jl',\n",
       " 'NjJjOTRjOTctNDQyZi00YTViLWJmOTAtZjIyMGJmZTI4NjE5']"
      ]
     },
     "execution_count": 43,
     "metadata": {},
     "output_type": "execute_result"
    }
   ],
   "source": [
    "%%time\n",
    "vector_store.add_documents(documents=documents)"
   ]
  },
  {
   "cell_type": "code",
   "execution_count": 44,
   "metadata": {},
   "outputs": [],
   "source": [
    "azureai_retriever = vector_store.as_retriever()"
   ]
  },
  {
   "cell_type": "code",
   "execution_count": 45,
   "metadata": {},
   "outputs": [
    {
     "data": {
      "text/plain": [
       "[Document(page_content='In our on-premises server business, revenue increased 3% and 2% in constant currency, ahead of expectations, driven primarily by the better-than-expected demand related to Windows Server 2012 end of support. Enterprise and partner services revenue increased 1% and was relatively unchanged in constant currency with better-than-expected performance across enterprise support services and industry solutions. Segment gross margin dollars increased 20% and 18% in constant currency, and gross margin percentage was relatively unchanged. Excluding the impact of the change in accounting estimate, gross margin percentage increased roughly 1 point, driven by the improvement in Azure noted earlier, partially offset by the impact of scaling our AI infrastructure to meet growing demand.\\n\\nOperating expenses decreased 8% and 9% in constant currency with 9 points of favorable impact from the prior-year Q2 charge. Operating income grew 40% and 37% in constant currency. Now to more personal computing. Revenue was $16.9 billion, increasing 19% and 18% in constant currency, in line with expectations overall.\\n\\nGrowth includes 15 points of net impact from the Activision acquisition. Windows OEM revenue increased 11% year over year, ahead of expectations, driven by slightly better performance and higher monetizing consumer markets. Windows commercial products and cloud services revenue increased 9% and 7% in constant currency, below expectations primarily [Technical difficulty] period revenue recognition from the mix of contracts. Annuity billings growth remains healthy.\\n\\nDevices revenue decreased 9% and 10% in constant currency, ahead of expectations due to stronger execution in the commercial segment. Search and news advertising revenue, ex TAC, increased 8% and 7% in constant currency, relatively in line with expectations, driven by higher search volume, offset by negative impact from a third-party partnership. And in gaming, revenue increased 49% and 48% in constant currency, with 44 points of net impact from the Activision acquisition. Total gaming revenue was in line with expectations of stronger-than-expected performance from Activision was offset by the weaker-than-expected console market noted earlier.', metadata={'source': 'MSFT_q2_2024.txt'}),\n",
       " Document(page_content='Growth will be driven by our Azure consumption business with continued strong contribution from AI. Our per-user business should see benefit from Microsoft 365 Suite momentum though we expect continued moderation in seat growth rates given the size of the installed base. In our on-premises server business, we expect revenue growth in the low-to-mid single-digits with continued hybrid demand, including licenses running in multi-cloud environments. And in the enterprise and partner services revenue should decline approximately 10% on a high prior-year comparable for enterprise support services and more personal computing, we expect revenue of $14.7 billion, $15.1 billion, or growth between 11% and 14%.\\n\\nWindows OEM revenue growth should be relatively flat as PC market unit volumes continue at pre-pandemic levels. In Windows commercial products and cloud services, customer demand for Microsoft 365 and our Advanced Security Solutions should drive revenue growth in the mid-teens. As a reminder, our quarterly revenue growth can have variability, primarily from in-period revenue recognition, depending on the mix of contracts. In Devices, revenue should decline in the low-double-digits as we continue to focus on our higher-margin premium products.\\n\\nSearch and news advertising, ex TAC, revenue growth should be in the mid-to-high single-digits, about 8 points higher than overall search and news advertising revenue, driven by continued volume strength. And in gaming, we expect revenue growth in the low 40s, including approximately 45 points of net impact from the Activision acquisition. We expect Xbox content and services revenue growth in the low-to-mid 50s, driven by approximately 50 points of net impact from the Activision acquisition. Hardware revenue will decline year over year.\\n\\nNow back to company guidance. We expect COGS between $18.6 billion to $18.8 billion, including approximately $700 million of amortization of acquired intangible assets from the Activision acquisition. We expect operating expenses of $15.8 billion to $15.9 billion, including approximately $300 million from purchase accounting, integration, and transaction-related costs from the Activision acquisition. Other income and expenses should be roughly negative $600 million as interest income will be more than offset by interest expense and other losses.', metadata={'source': 'MSFT_q2_2024.txt'}),\n",
       " Document(page_content='We expect revenue of USD 16.5 billion to USD 16.9 billion. Windows OEM revenue growth should be mid- to high single digits with PC market unit volumes expected to look roughly similar to Q1. In devices, revenue should decline in the mid-teens as we continue to focus on our higher-margin premium products. In Windows Commercial products and cloud services, customer demand for Microsoft 365 and our advanced security solutions should drive revenue growth in the low to mid-teens.\\n\\nSearch and news advertising ex TAC revenue growth should be mid-single digits with roughly 4 points of negative impact from a third-party partnership. Growth should be driven by volume strength supported by Edge browser share gains and increasing Bing engagement as we expect the advertising spend environment to be similar to Q1. Reminder that this ex TAC growth will be roughly 4 points higher than overall search and news advertising revenue. And in gaming, we expect revenue growth in the mid- to high 40s.\\n\\nThis includes roughly 35 points of net impact from the Activision acquisition, which, as a reminder, includes adjusting for the third-party to first-party content change noted earlier. We expect Xbox content and services revenue growth in the mid- to high 50s, driven by roughly 50 points of net impact from the Activision acquisition. Now back to company guidance. We expect COGS between USD 19.4 billion to USD 19.6 billion, including approximately $500 million of amortization of acquired intangible assets from the Activision acquisition.\\n\\nWe expect operating expense of USD 15.5 billion to USD 15.6 billion, including approximately $400 million from purchase accounting adjustments, integration and transaction-related costs from the Activision acquisition. Other income and expense should be roughly negative $500 million as interest income will be more than offset by interest expense, primarily due to a reduction in our investment portfolio balance and the issuance of short-term debt, both for the Activision acquisition. As a reminder, we are required to recognize gains or losses on our equity investments, which can increase quarterly volatility. We expect our Q2 effective tax rate to be between 19% and 20%.', metadata={'source': 'MSFT_q1_2024.txt'}),\n",
       " Document(page_content=\"We're excited for Microsoft 365 Copilot general availability on November 1 and expect the related revenue to grow gradually over time. In our on-premise business, we expect revenue to decline in the mid- to high teens. In Office consumer, we expect revenue growth in the mid-single digits, driven by Microsoft 365 subscriptions. For LinkedIn, we expect revenue growth in the mid-single digits, driven by Talent Solutions and Marketing Solutions.\\n\\nGrowth continues to be impacted by the overall market environments for recruiting and advertising, especially in the technology industry where we have significant exposure. And in Dynamics, we expect revenue growth in the high teens driven by Dynamics 365. For Intelligent Cloud, we expect revenue to grow between 17% and 18% or USD 25.1 billion to USD 25.4 billion. Revenue growth in constant currency will be approximately 1 point lower.\\n\\nRevenue will continue to be driven by Azure, which, as a reminder, can have quarterly variability primarily from our per-user business and from in-period revenue recognition, depending on the mix of contracts. In Azure, we expect revenue growth to be 26% to 27% in constant currency with an increasing contribution from AI. Growth continues to be driven by Azure consumption business, and we expect the trends from Q1 to continue into Q2. Our per-user business should continue to benefit from Microsoft 365 suite momentum, though we expect continued moderation in seat growth rates given the size of the installed base.\\n\\nFor H2, assuming the optimization and new workload trends continue and with the growing contribution from AI, we expect Azure revenue growth in constant currency to remain roughly stable compared to Q2. In our on-premises server business, we expect revenue growth to be roughly flat with continued hybrid demand, particularly from licenses running in multi-cloud environments. In enterprise and partner services, revenue should decline low to mid-single digits. Now to more personal computing, which includes the net impact from the Activision acquisition.\", metadata={'source': 'MSFT_q1_2024.txt'})]"
      ]
     },
     "execution_count": 45,
     "metadata": {},
     "output_type": "execute_result"
    }
   ],
   "source": [
    "azureai_retriever.invoke(\"How is Windows OEM revenue growth?\")"
   ]
  },
  {
   "cell_type": "code",
   "execution_count": 59,
   "metadata": {},
   "outputs": [],
   "source": [
    "llm = AzureChatOpenAI(azure_endpoint=azure_oai_endpoint,\n",
    "                      api_key=azure_openai_api_key, \n",
    "                      api_version=\"2023-09-01-preview\",\n",
    "                      azure_deployment=azure_oai_deployment)\n",
    "qa = RetrievalQA.from_chain_type(\n",
    "    llm=llm,\n",
    "    chain_type='stuff',\n",
    "    retriever=azureai_retriever,\n",
    "    metadata={\"application_type\": \"question_answering\"},\n",
    ")"
   ]
  },
  {
   "cell_type": "code",
   "execution_count": 60,
   "metadata": {},
   "outputs": [],
   "source": [
    "query = \"How is Windows OEM revenue growth?\""
   ]
  },
  {
   "cell_type": "code",
   "execution_count": 61,
   "metadata": {},
   "outputs": [
    {
     "data": {
      "text/plain": [
       "{'query': 'How is Windows OEM revenue growth?',\n",
       " 'result': 'Windows OEM revenue growth increased 11% year over year, ahead of expectations, driven by slightly better performance and higher monetizing consumer markets.'}"
      ]
     },
     "execution_count": 61,
     "metadata": {},
     "output_type": "execute_result"
    }
   ],
   "source": [
    "qa.invoke({\"query\": query})"
   ]
  },
  {
   "cell_type": "code",
   "execution_count": null,
   "metadata": {},
   "outputs": [],
   "source": []
  }
 ],
 "metadata": {
  "kernelspec": {
   "display_name": ".venv",
   "language": "python",
   "name": "python3"
  },
  "language_info": {
   "codemirror_mode": {
    "name": "ipython",
    "version": 3
   },
   "file_extension": ".py",
   "mimetype": "text/x-python",
   "name": "python",
   "nbconvert_exporter": "python",
   "pygments_lexer": "ipython3",
   "version": "3.10.0"
  }
 },
 "nbformat": 4,
 "nbformat_minor": 2
}
