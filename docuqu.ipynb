{
 "cells": [
  {
   "cell_type": "code",
   "execution_count": 1,
   "metadata": {},
   "outputs": [],
   "source": [
    "import os\n",
    "import json\n",
    "from dotenv import load_dotenv\n",
    "\n",
    "# Add OpenAI import\n",
    "# from openai import AzureOpenAI"
   ]
  },
  {
   "cell_type": "code",
   "execution_count": 2,
   "metadata": {},
   "outputs": [],
   "source": [
    "from langchain_community.document_loaders import TextLoader\n",
    "from langchain_openai import AzureChatOpenAI, AzureOpenAIEmbeddings\n",
    "from langchain.chains import RetrievalQA\n",
    "from langchain_core.output_parsers import StrOutputParser\n",
    "from langchain.vectorstores.azuresearch import AzureSearch\n",
    "from langchain.text_splitter import CharacterTextSplitter\n",
    "from azure.search.documents.indexes.models import (\n",
    "    FreshnessScoringFunction,\n",
    "    FreshnessScoringParameters,\n",
    "    ScoringProfile,\n",
    "    SearchableField,\n",
    "    SearchField,\n",
    "    SearchFieldDataType,\n",
    "    SimpleField,\n",
    "    TextWeights,\n",
    ")\n",
    "from tqdm import tqdm\n",
    "import os\n",
    "import pandas as pd\n",
    "import nest_asyncio\n",
    "nest_asyncio.apply()\n",
    "import warnings\n",
    "warnings.filterwarnings(\"ignore\") "
   ]
  },
  {
   "cell_type": "code",
   "execution_count": 3,
   "metadata": {},
   "outputs": [],
   "source": [
    "# Get configuration settings \n",
    "load_dotenv()\n",
    "azure_oai_endpoint = os.getenv(\"AZURE_OAI_ENDPOINT\")\n",
    "azure_oai_key = os.getenv(\"AZURE_OAI_KEY\")\n",
    "azure_openai_api_key = os.getenv(\"AZURE_OAI_KEY\")\n",
    "azure_oai_deployment = os.getenv(\"AZURE_OAI_DEPLOYMENT\")\n",
    "azure_oai_text_deployment = os.getenv(\"AZURE_OAI_TEXT_DEPLOYMENT\")\n",
    "azure_search_endpoint = os.getenv(\"AZURE_SEARCH_ENDPOINT\")\n",
    "azure_search_key = os.getenv(\"AZURE_SEARCH_KEY\")\n",
    "azure_search_index = os.getenv(\"AZURE_SEARCH_INDEX\")"
   ]
  },
  {
   "cell_type": "code",
   "execution_count": 4,
   "metadata": {},
   "outputs": [],
   "source": [
    "def split_doc(filename_):\n",
    "    print(f'Reading - {filename_}')\n",
    "    loader = TextLoader(filename_, encoding=\"utf-8\")\n",
    "    documents = loader.load()\n",
    "    text_splitter = CharacterTextSplitter(chunk_size=2500, chunk_overlap=0)\n",
    "    docs = text_splitter.split_documents(documents)\n",
    "    return docs\n",
    "\n",
    "def add_metadata(data,time):\n",
    "    for chunk in data:\n",
    "        chunk.metadata['last_update'] = time\n",
    "    return data"
   ]
  },
  {
   "cell_type": "code",
   "execution_count": 5,
   "metadata": {},
   "outputs": [],
   "source": [
    "# msft_q1 = split_doc('MSFT_q1_2024.txt')\n",
    "# msft_q2 = split_doc('MSFT_q2_2024.txt')"
   ]
  },
  {
   "cell_type": "code",
   "execution_count": 5,
   "metadata": {},
   "outputs": [],
   "source": [
    "# Adding same data with different last_update \n",
    "from datetime import datetime, timedelta\n",
    "\n",
    "q2_time = (datetime.utcnow() - timedelta(days=90)).strftime(\n",
    "    \"%Y-%m-%dT%H:%M:%S-00:00\"\n",
    ")\n",
    "q1_time = (datetime.utcnow() - timedelta(days=180)).strftime(\n",
    "    \"%Y-%m-%dT%H:%M:%S-00:00\"\n",
    ")"
   ]
  },
  {
   "cell_type": "code",
   "execution_count": 6,
   "metadata": {},
   "outputs": [
    {
     "data": {
      "text/plain": [
       "('2024-02-04T22:03:52-00:00', '2023-11-06T22:03:52-00:00')"
      ]
     },
     "execution_count": 6,
     "metadata": {},
     "output_type": "execute_result"
    }
   ],
   "source": [
    "q2_time,q1_time"
   ]
  },
  {
   "cell_type": "code",
   "execution_count": 8,
   "metadata": {},
   "outputs": [],
   "source": [
    "# documents = msft_q1 + msft_q2"
   ]
  },
  {
   "cell_type": "code",
   "execution_count": 7,
   "metadata": {},
   "outputs": [],
   "source": [
    "embeddings = AzureOpenAIEmbeddings(\n",
    "    azure_deployment=azure_oai_text_deployment,\n",
    "    api_key=azure_openai_api_key,\n",
    "    azure_endpoint=azure_oai_endpoint\n",
    ")\n",
    "embedding_function=embeddings.embed_query"
   ]
  },
  {
   "cell_type": "code",
   "execution_count": 8,
   "metadata": {},
   "outputs": [],
   "source": [
    "fields = [\n",
    "    SimpleField(\n",
    "        name=\"id\",\n",
    "        type=SearchFieldDataType.String,\n",
    "        key=True,\n",
    "        filterable=True,\n",
    "    ),\n",
    "    SearchableField(\n",
    "        name=\"content\",\n",
    "        type=SearchFieldDataType.String,\n",
    "        searchable=True,\n",
    "    ),\n",
    "    SearchField(\n",
    "        name=\"content_vector\",\n",
    "        type=SearchFieldDataType.Collection(SearchFieldDataType.Single),\n",
    "        searchable=True,\n",
    "        vector_search_dimensions=len(embedding_function(\"Text\")),\n",
    "        vector_search_profile_name=\"myHnswProfile\",\n",
    "    ),\n",
    "    SearchableField(\n",
    "        name=\"metadata\",\n",
    "        type=SearchFieldDataType.String,\n",
    "        searchable=True,\n",
    "    ),\n",
    "    # Additional field for filtering on document source\n",
    "    SimpleField(\n",
    "        name=\"source\",\n",
    "        type=SearchFieldDataType.String,\n",
    "        filterable=True,\n",
    "    ),\n",
    "    # Additional data field for last doc update\n",
    "    SimpleField(\n",
    "        name=\"last_update\",\n",
    "        type=SearchFieldDataType.DateTimeOffset,\n",
    "        searchable=True,\n",
    "        filterable=True,\n",
    "    ),\n",
    "]\n",
    "# Adding a custom scoring profile with a freshness function\n",
    "sc_name = \"scoring_profile\"\n",
    "sc = ScoringProfile(\n",
    "    name=sc_name,\n",
    "    text_weights=TextWeights(weights={\"content\": 5}),\n",
    "    function_aggregation=\"sum\",\n",
    "    functions=[\n",
    "        FreshnessScoringFunction(\n",
    "            field_name=\"last_update\",\n",
    "            boost=100,\n",
    "            parameters=FreshnessScoringParameters(boosting_duration=\"P2D\"),\n",
    "            interpolation=\"linear\",\n",
    "        )\n",
    "    ],\n",
    ")"
   ]
  },
  {
   "cell_type": "code",
   "execution_count": 9,
   "metadata": {},
   "outputs": [],
   "source": [
    "from azure.identity import DefaultAzureCredential\n",
    "credential = DefaultAzureCredential()"
   ]
  },
  {
   "cell_type": "code",
   "execution_count": 10,
   "metadata": {},
   "outputs": [],
   "source": [
    "index_name = \"earning_call-scoring-profile\"\n",
    "\n",
    "vector_store: AzureSearch = AzureSearch(\n",
    "    azure_search_endpoint=azure_search_endpoint,\n",
    "    azure_search_key=azure_search_key,\n",
    "    index_name=index_name,\n",
    "    embedding_function=embeddings.embed_query,\n",
    "    fields=fields,\n",
    "    scoring_profiles=[sc],\n",
    "    default_scoring_profile=sc_name,\n",
    ")"
   ]
  },
  {
   "cell_type": "code",
   "execution_count": 13,
   "metadata": {},
   "outputs": [],
   "source": [
    "# %%time\n",
    "# vector_store.add_documents(documents=documents)"
   ]
  },
  {
   "cell_type": "code",
   "execution_count": 11,
   "metadata": {},
   "outputs": [],
   "source": [
    "azureai_retriever = vector_store.as_retriever(fetch_k=1)"
   ]
  },
  {
   "cell_type": "code",
   "execution_count": 20,
   "metadata": {},
   "outputs": [],
   "source": [
    "index_response = azureai_retriever.invoke(\"Windows OEM revenue growth\")"
   ]
  },
  {
   "cell_type": "code",
   "execution_count": 21,
   "metadata": {},
   "outputs": [
    {
     "name": "stdout",
     "output_type": "stream",
     "text": [
      "{'source': 'MSFT_q2_2024.txt'}\n",
      "In our on-premises server business, revenue increased 3% and 2% in constant currency, ahead of expectations, driven primarily by the better-than-expected demand related to Windows Server 2012 end of support. Enterprise and partner services revenue increased 1% and was relatively unchanged in constant currency with better-than-expected performance across enterprise support services and industry solutions. Segment gross margin dollars increased 20% and 18% in constant currency, and gross margin percentage was relatively unchanged. Excluding the impact of the change in accounting estimate, gross margin percentage increased roughly 1 point, driven by the improvement in Azure noted earlier, partially offset by the impact of scaling our AI infrastructure to meet growing demand.\n",
      "\n",
      "Operating expenses decreased 8% and 9% in constant currency with 9 points of favorable impact from the prior-year Q2 charge. Operating income grew 40% and 37% in constant currency. Now to more personal computing. Revenue was $16.9 billion, increasing 19% and 18% in constant currency, in line with expectations overall.\n",
      "\n",
      "Growth includes 15 points of net impact from the Activision acquisition. Windows OEM revenue increased 11% year over year, ahead of expectations, driven by slightly better performance and higher monetizing consumer markets. Windows commercial products and cloud services revenue increased 9% and 7% in constant currency, below expectations primarily [Technical difficulty] period revenue recognition from the mix of contracts. Annuity billings growth remains healthy.\n",
      "\n",
      "Devices revenue decreased 9% and 10% in constant currency, ahead of expectations due to stronger execution in the commercial segment. Search and news advertising revenue, ex TAC, increased 8% and 7% in constant currency, relatively in line with expectations, driven by higher search volume, offset by negative impact from a third-party partnership. And in gaming, revenue increased 49% and 48% in constant currency, with 44 points of net impact from the Activision acquisition. Total gaming revenue was in line with expectations of stronger-than-expected performance from Activision was offset by the weaker-than-expected console market noted earlier.\n",
      "\n",
      "\n",
      "\n",
      "{'source': 'MSFT_q2_2024.txt'}\n",
      "Growth will be driven by our Azure consumption business with continued strong contribution from AI. Our per-user business should see benefit from Microsoft 365 Suite momentum though we expect continued moderation in seat growth rates given the size of the installed base. In our on-premises server business, we expect revenue growth in the low-to-mid single-digits with continued hybrid demand, including licenses running in multi-cloud environments. And in the enterprise and partner services revenue should decline approximately 10% on a high prior-year comparable for enterprise support services and more personal computing, we expect revenue of $14.7 billion, $15.1 billion, or growth between 11% and 14%.\n",
      "\n",
      "Windows OEM revenue growth should be relatively flat as PC market unit volumes continue at pre-pandemic levels. In Windows commercial products and cloud services, customer demand for Microsoft 365 and our Advanced Security Solutions should drive revenue growth in the mid-teens. As a reminder, our quarterly revenue growth can have variability, primarily from in-period revenue recognition, depending on the mix of contracts. In Devices, revenue should decline in the low-double-digits as we continue to focus on our higher-margin premium products.\n",
      "\n",
      "Search and news advertising, ex TAC, revenue growth should be in the mid-to-high single-digits, about 8 points higher than overall search and news advertising revenue, driven by continued volume strength. And in gaming, we expect revenue growth in the low 40s, including approximately 45 points of net impact from the Activision acquisition. We expect Xbox content and services revenue growth in the low-to-mid 50s, driven by approximately 50 points of net impact from the Activision acquisition. Hardware revenue will decline year over year.\n",
      "\n",
      "Now back to company guidance. We expect COGS between $18.6 billion to $18.8 billion, including approximately $700 million of amortization of acquired intangible assets from the Activision acquisition. We expect operating expenses of $15.8 billion to $15.9 billion, including approximately $300 million from purchase accounting, integration, and transaction-related costs from the Activision acquisition. Other income and expenses should be roughly negative $600 million as interest income will be more than offset by interest expense and other losses.\n",
      "\n",
      "\n",
      "\n",
      "{'source': 'MSFT_q1_2024.txt'}\n",
      "Office commercial licensing declined 17%, in line with the continued customer shift to cloud offerings. Office consumer revenue increased 3% and 4% in constant currency with continued momentum in Microsoft 365 subscriptions, which grew 18% to $76.7 million. LinkedIn revenue increased 8%, ahead of expectations, driven by slightly better-than-expected performance across all businesses. Growth was driven by Talent Solutions, though we continue to see negative year-over-year bookings there from the weaker hiring environment in key verticals.\n",
      "\n",
      "Dynamics revenue grew 22% and 21% in constant currency driven by Dynamics 365, which grew 28% and 26% in constant currency with continued growth across all workloads. Segment gross margin dollars increased 13% and gross margin percentage increased slightly year over year. Excluding the impact of the change in accounting estimate, gross margin percentage increased roughly 1 point driven by improvement in Office 365. Operating expenses increased 2% and operating income increased 20% and 19% in constant currency.\n",
      "\n",
      "Next, the Intelligent Cloud segment. Revenue was $24.3 billion, increasing 19% and ahead of expectations with better-than-expected results across all businesses. Overall, server products and cloud services revenue grew 21%. Azure and other cloud services revenue grew 29% and 28% in constant currency, including roughly 3 points from AI services.\n",
      "\n",
      "While the trends from prior quarter continued, growth was ahead of expectations primarily driven by increased GPU capacity and better-than-expected GPU utilization of our AI services, as well as slightly higher-than-expected growth in our per-user business. In our per-user business, the Enterprise Mobility and Security install base grew 11% to over 259 million seats with continued impact from the growth trends in new stand-alone business noted earlier. In our on-premises server business, revenue increased 2%, ahead of expectations, driven primarily by demand in advance of Windows Server 2012 end of support. Enterprise and partner services revenue increased 1% and was relatively unchanged in constant currency, ahead of expectations, driven by better-than-expected performance in enterprise support services.\n",
      "\n",
      "\n",
      "\n",
      "{'source': 'MSFT_q1_2024.txt'}\n",
      "We're excited for Microsoft 365 Copilot general availability on November 1 and expect the related revenue to grow gradually over time. In our on-premise business, we expect revenue to decline in the mid- to high teens. In Office consumer, we expect revenue growth in the mid-single digits, driven by Microsoft 365 subscriptions. For LinkedIn, we expect revenue growth in the mid-single digits, driven by Talent Solutions and Marketing Solutions.\n",
      "\n",
      "Growth continues to be impacted by the overall market environments for recruiting and advertising, especially in the technology industry where we have significant exposure. And in Dynamics, we expect revenue growth in the high teens driven by Dynamics 365. For Intelligent Cloud, we expect revenue to grow between 17% and 18% or USD 25.1 billion to USD 25.4 billion. Revenue growth in constant currency will be approximately 1 point lower.\n",
      "\n",
      "Revenue will continue to be driven by Azure, which, as a reminder, can have quarterly variability primarily from our per-user business and from in-period revenue recognition, depending on the mix of contracts. In Azure, we expect revenue growth to be 26% to 27% in constant currency with an increasing contribution from AI. Growth continues to be driven by Azure consumption business, and we expect the trends from Q1 to continue into Q2. Our per-user business should continue to benefit from Microsoft 365 suite momentum, though we expect continued moderation in seat growth rates given the size of the installed base.\n",
      "\n",
      "For H2, assuming the optimization and new workload trends continue and with the growing contribution from AI, we expect Azure revenue growth in constant currency to remain roughly stable compared to Q2. In our on-premises server business, we expect revenue growth to be roughly flat with continued hybrid demand, particularly from licenses running in multi-cloud environments. In enterprise and partner services, revenue should decline low to mid-single digits. Now to more personal computing, which includes the net impact from the Activision acquisition.\n",
      "\n",
      "\n",
      "\n"
     ]
    }
   ],
   "source": [
    "for document in index_response:\n",
    "    print(document.metadata)\n",
    "    print(document.page_content)\n",
    "    print(\"\\n\\n\")"
   ]
  },
  {
   "cell_type": "code",
   "execution_count": 75,
   "metadata": {},
   "outputs": [],
   "source": [
    "llm = AzureChatOpenAI(azure_endpoint=azure_oai_endpoint,\n",
    "                      api_key=azure_openai_api_key, \n",
    "                      api_version=\"2023-09-01-preview\",\n",
    "                      azure_deployment=azure_oai_deployment, \n",
    "                      max_tokens=100)\n",
    "qa = RetrievalQA.from_chain_type(\n",
    "    llm=llm,\n",
    "    chain_type='stuff',\n",
    "    retriever=azureai_retriever,\n",
    "    metadata={\"application_type\": \"question_answering\"},\n",
    "    return_source_documents=True,\n",
    ")"
   ]
  },
  {
   "cell_type": "code",
   "execution_count": 73,
   "metadata": {},
   "outputs": [],
   "source": [
    "query = \"How is Windows OEM revenue growth?\""
   ]
  },
  {
   "cell_type": "code",
   "execution_count": 74,
   "metadata": {},
   "outputs": [
    {
     "data": {
      "text/plain": [
       "{'query': 'How is Windows OEM revenue growth?',\n",
       " 'result': 'Windows OEM',\n",
       " 'source_documents': [Document(page_content='In our on-premises server business, revenue increased 3% and 2% in constant currency, ahead of expectations, driven primarily by the better-than-expected demand related to Windows Server 2012 end of support. Enterprise and partner services revenue increased 1% and was relatively unchanged in constant currency with better-than-expected performance across enterprise support services and industry solutions. Segment gross margin dollars increased 20% and 18% in constant currency, and gross margin percentage was relatively unchanged. Excluding the impact of the change in accounting estimate, gross margin percentage increased roughly 1 point, driven by the improvement in Azure noted earlier, partially offset by the impact of scaling our AI infrastructure to meet growing demand.\\n\\nOperating expenses decreased 8% and 9% in constant currency with 9 points of favorable impact from the prior-year Q2 charge. Operating income grew 40% and 37% in constant currency. Now to more personal computing. Revenue was $16.9 billion, increasing 19% and 18% in constant currency, in line with expectations overall.\\n\\nGrowth includes 15 points of net impact from the Activision acquisition. Windows OEM revenue increased 11% year over year, ahead of expectations, driven by slightly better performance and higher monetizing consumer markets. Windows commercial products and cloud services revenue increased 9% and 7% in constant currency, below expectations primarily [Technical difficulty] period revenue recognition from the mix of contracts. Annuity billings growth remains healthy.\\n\\nDevices revenue decreased 9% and 10% in constant currency, ahead of expectations due to stronger execution in the commercial segment. Search and news advertising revenue, ex TAC, increased 8% and 7% in constant currency, relatively in line with expectations, driven by higher search volume, offset by negative impact from a third-party partnership. And in gaming, revenue increased 49% and 48% in constant currency, with 44 points of net impact from the Activision acquisition. Total gaming revenue was in line with expectations of stronger-than-expected performance from Activision was offset by the weaker-than-expected console market noted earlier.', metadata={'source': 'MSFT_q2_2024.txt'}),\n",
       "  Document(page_content='Growth will be driven by our Azure consumption business with continued strong contribution from AI. Our per-user business should see benefit from Microsoft 365 Suite momentum though we expect continued moderation in seat growth rates given the size of the installed base. In our on-premises server business, we expect revenue growth in the low-to-mid single-digits with continued hybrid demand, including licenses running in multi-cloud environments. And in the enterprise and partner services revenue should decline approximately 10% on a high prior-year comparable for enterprise support services and more personal computing, we expect revenue of $14.7 billion, $15.1 billion, or growth between 11% and 14%.\\n\\nWindows OEM revenue growth should be relatively flat as PC market unit volumes continue at pre-pandemic levels. In Windows commercial products and cloud services, customer demand for Microsoft 365 and our Advanced Security Solutions should drive revenue growth in the mid-teens. As a reminder, our quarterly revenue growth can have variability, primarily from in-period revenue recognition, depending on the mix of contracts. In Devices, revenue should decline in the low-double-digits as we continue to focus on our higher-margin premium products.\\n\\nSearch and news advertising, ex TAC, revenue growth should be in the mid-to-high single-digits, about 8 points higher than overall search and news advertising revenue, driven by continued volume strength. And in gaming, we expect revenue growth in the low 40s, including approximately 45 points of net impact from the Activision acquisition. We expect Xbox content and services revenue growth in the low-to-mid 50s, driven by approximately 50 points of net impact from the Activision acquisition. Hardware revenue will decline year over year.\\n\\nNow back to company guidance. We expect COGS between $18.6 billion to $18.8 billion, including approximately $700 million of amortization of acquired intangible assets from the Activision acquisition. We expect operating expenses of $15.8 billion to $15.9 billion, including approximately $300 million from purchase accounting, integration, and transaction-related costs from the Activision acquisition. Other income and expenses should be roughly negative $600 million as interest income will be more than offset by interest expense and other losses.', metadata={'source': 'MSFT_q2_2024.txt'}),\n",
       "  Document(page_content='We expect revenue of USD 16.5 billion to USD 16.9 billion. Windows OEM revenue growth should be mid- to high single digits with PC market unit volumes expected to look roughly similar to Q1. In devices, revenue should decline in the mid-teens as we continue to focus on our higher-margin premium products. In Windows Commercial products and cloud services, customer demand for Microsoft 365 and our advanced security solutions should drive revenue growth in the low to mid-teens.\\n\\nSearch and news advertising ex TAC revenue growth should be mid-single digits with roughly 4 points of negative impact from a third-party partnership. Growth should be driven by volume strength supported by Edge browser share gains and increasing Bing engagement as we expect the advertising spend environment to be similar to Q1. Reminder that this ex TAC growth will be roughly 4 points higher than overall search and news advertising revenue. And in gaming, we expect revenue growth in the mid- to high 40s.\\n\\nThis includes roughly 35 points of net impact from the Activision acquisition, which, as a reminder, includes adjusting for the third-party to first-party content change noted earlier. We expect Xbox content and services revenue growth in the mid- to high 50s, driven by roughly 50 points of net impact from the Activision acquisition. Now back to company guidance. We expect COGS between USD 19.4 billion to USD 19.6 billion, including approximately $500 million of amortization of acquired intangible assets from the Activision acquisition.\\n\\nWe expect operating expense of USD 15.5 billion to USD 15.6 billion, including approximately $400 million from purchase accounting adjustments, integration and transaction-related costs from the Activision acquisition. Other income and expense should be roughly negative $500 million as interest income will be more than offset by interest expense, primarily due to a reduction in our investment portfolio balance and the issuance of short-term debt, both for the Activision acquisition. As a reminder, we are required to recognize gains or losses on our equity investments, which can increase quarterly volatility. We expect our Q2 effective tax rate to be between 19% and 20%.', metadata={'source': 'MSFT_q1_2024.txt'}),\n",
       "  Document(page_content=\"We're excited for Microsoft 365 Copilot general availability on November 1 and expect the related revenue to grow gradually over time. In our on-premise business, we expect revenue to decline in the mid- to high teens. In Office consumer, we expect revenue growth in the mid-single digits, driven by Microsoft 365 subscriptions. For LinkedIn, we expect revenue growth in the mid-single digits, driven by Talent Solutions and Marketing Solutions.\\n\\nGrowth continues to be impacted by the overall market environments for recruiting and advertising, especially in the technology industry where we have significant exposure. And in Dynamics, we expect revenue growth in the high teens driven by Dynamics 365. For Intelligent Cloud, we expect revenue to grow between 17% and 18% or USD 25.1 billion to USD 25.4 billion. Revenue growth in constant currency will be approximately 1 point lower.\\n\\nRevenue will continue to be driven by Azure, which, as a reminder, can have quarterly variability primarily from our per-user business and from in-period revenue recognition, depending on the mix of contracts. In Azure, we expect revenue growth to be 26% to 27% in constant currency with an increasing contribution from AI. Growth continues to be driven by Azure consumption business, and we expect the trends from Q1 to continue into Q2. Our per-user business should continue to benefit from Microsoft 365 suite momentum, though we expect continued moderation in seat growth rates given the size of the installed base.\\n\\nFor H2, assuming the optimization and new workload trends continue and with the growing contribution from AI, we expect Azure revenue growth in constant currency to remain roughly stable compared to Q2. In our on-premises server business, we expect revenue growth to be roughly flat with continued hybrid demand, particularly from licenses running in multi-cloud environments. In enterprise and partner services, revenue should decline low to mid-single digits. Now to more personal computing, which includes the net impact from the Activision acquisition.\", metadata={'source': 'MSFT_q1_2024.txt'})]}"
      ]
     },
     "execution_count": 74,
     "metadata": {},
     "output_type": "execute_result"
    }
   ],
   "source": [
    "response = qa.invoke({\"query\": query})\n",
    "response"
   ]
  },
  {
   "cell_type": "code",
   "execution_count": 68,
   "metadata": {},
   "outputs": [
    {
     "name": "stdout",
     "output_type": "stream",
     "text": [
      "Document is page_content='In our on-premises server business, revenue increased 3% and 2% in constant currency, ahead of expectations, driven primarily by the better-than-expected demand related to Windows Server 2012 end of support. Enterprise and partner services revenue increased 1% and was relatively unchanged in constant currency with better-than-expected performance across enterprise support services and industry solutions. Segment gross margin dollars increased 20% and 18% in constant currency, and gross margin percentage was relatively unchanged. Excluding the impact of the change in accounting estimate, gross margin percentage increased roughly 1 point, driven by the improvement in Azure noted earlier, partially offset by the impact of scaling our AI infrastructure to meet growing demand.\\n\\nOperating expenses decreased 8% and 9% in constant currency with 9 points of favorable impact from the prior-year Q2 charge. Operating income grew 40% and 37% in constant currency. Now to more personal computing. Revenue was $16.9 billion, increasing 19% and 18% in constant currency, in line with expectations overall.\\n\\nGrowth includes 15 points of net impact from the Activision acquisition. Windows OEM revenue increased 11% year over year, ahead of expectations, driven by slightly better performance and higher monetizing consumer markets. Windows commercial products and cloud services revenue increased 9% and 7% in constant currency, below expectations primarily [Technical difficulty] period revenue recognition from the mix of contracts. Annuity billings growth remains healthy.\\n\\nDevices revenue decreased 9% and 10% in constant currency, ahead of expectations due to stronger execution in the commercial segment. Search and news advertising revenue, ex TAC, increased 8% and 7% in constant currency, relatively in line with expectations, driven by higher search volume, offset by negative impact from a third-party partnership. And in gaming, revenue increased 49% and 48% in constant currency, with 44 points of net impact from the Activision acquisition. Total gaming revenue was in line with expectations of stronger-than-expected performance from Activision was offset by the weaker-than-expected console market noted earlier.' metadata={'source': 'MSFT_q2_2024.txt'}\n",
      "<class 'langchain_core.documents.base.Document'>\n",
      "{'source': 'MSFT_q2_2024.txt'}\n",
      "Document is page_content='Growth will be driven by our Azure consumption business with continued strong contribution from AI. Our per-user business should see benefit from Microsoft 365 Suite momentum though we expect continued moderation in seat growth rates given the size of the installed base. In our on-premises server business, we expect revenue growth in the low-to-mid single-digits with continued hybrid demand, including licenses running in multi-cloud environments. And in the enterprise and partner services revenue should decline approximately 10% on a high prior-year comparable for enterprise support services and more personal computing, we expect revenue of $14.7 billion, $15.1 billion, or growth between 11% and 14%.\\n\\nWindows OEM revenue growth should be relatively flat as PC market unit volumes continue at pre-pandemic levels. In Windows commercial products and cloud services, customer demand for Microsoft 365 and our Advanced Security Solutions should drive revenue growth in the mid-teens. As a reminder, our quarterly revenue growth can have variability, primarily from in-period revenue recognition, depending on the mix of contracts. In Devices, revenue should decline in the low-double-digits as we continue to focus on our higher-margin premium products.\\n\\nSearch and news advertising, ex TAC, revenue growth should be in the mid-to-high single-digits, about 8 points higher than overall search and news advertising revenue, driven by continued volume strength. And in gaming, we expect revenue growth in the low 40s, including approximately 45 points of net impact from the Activision acquisition. We expect Xbox content and services revenue growth in the low-to-mid 50s, driven by approximately 50 points of net impact from the Activision acquisition. Hardware revenue will decline year over year.\\n\\nNow back to company guidance. We expect COGS between $18.6 billion to $18.8 billion, including approximately $700 million of amortization of acquired intangible assets from the Activision acquisition. We expect operating expenses of $15.8 billion to $15.9 billion, including approximately $300 million from purchase accounting, integration, and transaction-related costs from the Activision acquisition. Other income and expenses should be roughly negative $600 million as interest income will be more than offset by interest expense and other losses.' metadata={'source': 'MSFT_q2_2024.txt'}\n",
      "<class 'langchain_core.documents.base.Document'>\n",
      "{'source': 'MSFT_q2_2024.txt'}\n",
      "Document is page_content='We expect revenue of USD 16.5 billion to USD 16.9 billion. Windows OEM revenue growth should be mid- to high single digits with PC market unit volumes expected to look roughly similar to Q1. In devices, revenue should decline in the mid-teens as we continue to focus on our higher-margin premium products. In Windows Commercial products and cloud services, customer demand for Microsoft 365 and our advanced security solutions should drive revenue growth in the low to mid-teens.\\n\\nSearch and news advertising ex TAC revenue growth should be mid-single digits with roughly 4 points of negative impact from a third-party partnership. Growth should be driven by volume strength supported by Edge browser share gains and increasing Bing engagement as we expect the advertising spend environment to be similar to Q1. Reminder that this ex TAC growth will be roughly 4 points higher than overall search and news advertising revenue. And in gaming, we expect revenue growth in the mid- to high 40s.\\n\\nThis includes roughly 35 points of net impact from the Activision acquisition, which, as a reminder, includes adjusting for the third-party to first-party content change noted earlier. We expect Xbox content and services revenue growth in the mid- to high 50s, driven by roughly 50 points of net impact from the Activision acquisition. Now back to company guidance. We expect COGS between USD 19.4 billion to USD 19.6 billion, including approximately $500 million of amortization of acquired intangible assets from the Activision acquisition.\\n\\nWe expect operating expense of USD 15.5 billion to USD 15.6 billion, including approximately $400 million from purchase accounting adjustments, integration and transaction-related costs from the Activision acquisition. Other income and expense should be roughly negative $500 million as interest income will be more than offset by interest expense, primarily due to a reduction in our investment portfolio balance and the issuance of short-term debt, both for the Activision acquisition. As a reminder, we are required to recognize gains or losses on our equity investments, which can increase quarterly volatility. We expect our Q2 effective tax rate to be between 19% and 20%.' metadata={'source': 'MSFT_q1_2024.txt'}\n",
      "<class 'langchain_core.documents.base.Document'>\n",
      "{'source': 'MSFT_q1_2024.txt'}\n",
      "Document is page_content=\"We're excited for Microsoft 365 Copilot general availability on November 1 and expect the related revenue to grow gradually over time. In our on-premise business, we expect revenue to decline in the mid- to high teens. In Office consumer, we expect revenue growth in the mid-single digits, driven by Microsoft 365 subscriptions. For LinkedIn, we expect revenue growth in the mid-single digits, driven by Talent Solutions and Marketing Solutions.\\n\\nGrowth continues to be impacted by the overall market environments for recruiting and advertising, especially in the technology industry where we have significant exposure. And in Dynamics, we expect revenue growth in the high teens driven by Dynamics 365. For Intelligent Cloud, we expect revenue to grow between 17% and 18% or USD 25.1 billion to USD 25.4 billion. Revenue growth in constant currency will be approximately 1 point lower.\\n\\nRevenue will continue to be driven by Azure, which, as a reminder, can have quarterly variability primarily from our per-user business and from in-period revenue recognition, depending on the mix of contracts. In Azure, we expect revenue growth to be 26% to 27% in constant currency with an increasing contribution from AI. Growth continues to be driven by Azure consumption business, and we expect the trends from Q1 to continue into Q2. Our per-user business should continue to benefit from Microsoft 365 suite momentum, though we expect continued moderation in seat growth rates given the size of the installed base.\\n\\nFor H2, assuming the optimization and new workload trends continue and with the growing contribution from AI, we expect Azure revenue growth in constant currency to remain roughly stable compared to Q2. In our on-premises server business, we expect revenue growth to be roughly flat with continued hybrid demand, particularly from licenses running in multi-cloud environments. In enterprise and partner services, revenue should decline low to mid-single digits. Now to more personal computing, which includes the net impact from the Activision acquisition.\" metadata={'source': 'MSFT_q1_2024.txt'}\n",
      "<class 'langchain_core.documents.base.Document'>\n",
      "{'source': 'MSFT_q1_2024.txt'}\n"
     ]
    }
   ],
   "source": [
    "# Accessing the list of documents\n",
    "documents = response['source_documents']\n",
    "\n",
    "# Extracting metadata from each document\n",
    "for document in documents:\n",
    "    print(f'Document is {document}')\n",
    "    print(type(document))\n",
    "    print(document.metadata)"
   ]
  },
  {
   "cell_type": "code",
   "execution_count": 85,
   "metadata": {},
   "outputs": [],
   "source": [
    "from azure.search.documents import SearchClient\n",
    "search_client  = SearchClient(endpoint=azure_search_endpoint, index_name=index_name, credential=azure_search_key)"
   ]
  },
  {
   "cell_type": "code",
   "execution_count": 86,
   "metadata": {},
   "outputs": [],
   "source": [
    "client = AzureOpenAI(\n",
    "    azure_endpoint=azure_oai_endpoint,\n",
    "    api_key=azure_oai_key,\n",
    "    api_version=\"2023-09-01-preview\")"
   ]
  },
  {
   "cell_type": "code",
   "execution_count": 88,
   "metadata": {},
   "outputs": [],
   "source": [
    "from azure.search.documents.models import VectorizedQuery\n",
    "search_text=\"Microsoft 365 Copilot\"\n",
    "embedding = client.embeddings.create(input=query, model=azure_oai_text_deployment).data[0].embedding\n",
    "vector_query = VectorizedQuery(vector=embedding, k_nearest_neighbors=3, fields=\"contentVector\")\n",
    "  \n",
    "results = search_client.search(  \n",
    "    search_text=None,  \n",
    "    vector_queries= [vector_query],\n",
    "    select=[\"id\", \"content\", \"metadata\"],\n",
    ")  \n",
    "  \n",
    "# for result in results:  \n",
    "#     print(f\"id: {result['id']}\")  \n",
    "#     print(f\"Score: {result['@search.score']}\")  \n",
    "#     print(f\"Content: {result['content']}\")  \n",
    "#     print(f\"metadata: {result['metadata']}\\n\")  "
   ]
  },
  {
   "cell_type": "code",
   "execution_count": 95,
   "metadata": {},
   "outputs": [
    {
     "ename": "AttributeError",
     "evalue": "'str' object has no attribute 'get_token'",
     "output_type": "error",
     "traceback": [
      "\u001b[1;31m---------------------------------------------------------------------------\u001b[0m",
      "\u001b[1;31mAttributeError\u001b[0m                            Traceback (most recent call last)",
      "Cell \u001b[1;32mIn[95], line 1\u001b[0m\n\u001b[1;32m----> 1\u001b[0m \u001b[38;5;28;01mfor\u001b[39;00m i, r \u001b[38;5;129;01min\u001b[39;00m \u001b[38;5;28menumerate\u001b[39m(results):\n\u001b[0;32m      2\u001b[0m     \u001b[38;5;28mprint\u001b[39m(\u001b[38;5;124mf\u001b[39m\u001b[38;5;124m\"\u001b[39m\u001b[38;5;124mResult \u001b[39m\u001b[38;5;132;01m{\u001b[39;00mi\u001b[38;5;132;01m}\u001b[39;00m\u001b[38;5;124m: \u001b[39m\u001b[38;5;132;01m{\u001b[39;00mr[\u001b[38;5;124m'\u001b[39m\u001b[38;5;124mcontent\u001b[39m\u001b[38;5;124m'\u001b[39m]\u001b[38;5;132;01m}\u001b[39;00m\u001b[38;5;124m\"\u001b[39m)\n",
      "File \u001b[1;32mc:\\Users\\azureuser\\Desktop\\CodeNinjas-project\\.venv\\lib\\site-packages\\azure\\search\\documents\\_paging.py:54\u001b[0m, in \u001b[0;36mSearchItemPaged.__next__\u001b[1;34m(self)\u001b[0m\n\u001b[0;32m     52\u001b[0m     first_iterator \u001b[38;5;241m=\u001b[39m \u001b[38;5;28mself\u001b[39m\u001b[38;5;241m.\u001b[39m_first_iterator_instance()\n\u001b[0;32m     53\u001b[0m     \u001b[38;5;28mself\u001b[39m\u001b[38;5;241m.\u001b[39m_page_iterator \u001b[38;5;241m=\u001b[39m itertools\u001b[38;5;241m.\u001b[39mchain\u001b[38;5;241m.\u001b[39mfrom_iterable(first_iterator)\n\u001b[1;32m---> 54\u001b[0m \u001b[38;5;28;01mreturn\u001b[39;00m \u001b[38;5;28;43mnext\u001b[39;49m\u001b[43m(\u001b[49m\u001b[38;5;28;43mself\u001b[39;49m\u001b[38;5;241;43m.\u001b[39;49m\u001b[43m_page_iterator\u001b[49m\u001b[43m)\u001b[49m\n",
      "File \u001b[1;32mc:\\Users\\azureuser\\Desktop\\CodeNinjas-project\\.venv\\lib\\site-packages\\azure\\core\\paging.py:75\u001b[0m, in \u001b[0;36mPageIterator.__next__\u001b[1;34m(self)\u001b[0m\n\u001b[0;32m     73\u001b[0m     \u001b[38;5;28;01mraise\u001b[39;00m \u001b[38;5;167;01mStopIteration\u001b[39;00m(\u001b[38;5;124m\"\u001b[39m\u001b[38;5;124mEnd of paging\u001b[39m\u001b[38;5;124m\"\u001b[39m)\n\u001b[0;32m     74\u001b[0m \u001b[38;5;28;01mtry\u001b[39;00m:\n\u001b[1;32m---> 75\u001b[0m     \u001b[38;5;28mself\u001b[39m\u001b[38;5;241m.\u001b[39m_response \u001b[38;5;241m=\u001b[39m \u001b[38;5;28;43mself\u001b[39;49m\u001b[38;5;241;43m.\u001b[39;49m\u001b[43m_get_next\u001b[49m\u001b[43m(\u001b[49m\u001b[38;5;28;43mself\u001b[39;49m\u001b[38;5;241;43m.\u001b[39;49m\u001b[43mcontinuation_token\u001b[49m\u001b[43m)\u001b[49m\n\u001b[0;32m     76\u001b[0m \u001b[38;5;28;01mexcept\u001b[39;00m AzureError \u001b[38;5;28;01mas\u001b[39;00m error:\n\u001b[0;32m     77\u001b[0m     \u001b[38;5;28;01mif\u001b[39;00m \u001b[38;5;129;01mnot\u001b[39;00m error\u001b[38;5;241m.\u001b[39mcontinuation_token:\n",
      "File \u001b[1;32mc:\\Users\\azureuser\\Desktop\\CodeNinjas-project\\.venv\\lib\\site-packages\\azure\\search\\documents\\_paging.py:124\u001b[0m, in \u001b[0;36mSearchPageIterator._get_next_cb\u001b[1;34m(self, continuation_token)\u001b[0m\n\u001b[0;32m    122\u001b[0m \u001b[38;5;28;01mdef\u001b[39;00m \u001b[38;5;21m_get_next_cb\u001b[39m(\u001b[38;5;28mself\u001b[39m, continuation_token):\n\u001b[0;32m    123\u001b[0m     \u001b[38;5;28;01mif\u001b[39;00m continuation_token \u001b[38;5;129;01mis\u001b[39;00m \u001b[38;5;28;01mNone\u001b[39;00m:\n\u001b[1;32m--> 124\u001b[0m         \u001b[38;5;28;01mreturn\u001b[39;00m \u001b[38;5;28mself\u001b[39m\u001b[38;5;241m.\u001b[39m_client\u001b[38;5;241m.\u001b[39mdocuments\u001b[38;5;241m.\u001b[39msearch_post(search_request\u001b[38;5;241m=\u001b[39m\u001b[38;5;28mself\u001b[39m\u001b[38;5;241m.\u001b[39m_initial_query\u001b[38;5;241m.\u001b[39mrequest, \u001b[38;5;241m*\u001b[39m\u001b[38;5;241m*\u001b[39m\u001b[38;5;28mself\u001b[39m\u001b[38;5;241m.\u001b[39m_kwargs)\n\u001b[0;32m    126\u001b[0m     _next_link, next_page_request \u001b[38;5;241m=\u001b[39m unpack_continuation_token(continuation_token)\n\u001b[0;32m    128\u001b[0m     \u001b[38;5;28;01mreturn\u001b[39;00m \u001b[38;5;28mself\u001b[39m\u001b[38;5;241m.\u001b[39m_client\u001b[38;5;241m.\u001b[39mdocuments\u001b[38;5;241m.\u001b[39msearch_post(search_request\u001b[38;5;241m=\u001b[39mnext_page_request, \u001b[38;5;241m*\u001b[39m\u001b[38;5;241m*\u001b[39m\u001b[38;5;28mself\u001b[39m\u001b[38;5;241m.\u001b[39m_kwargs)\n",
      "File \u001b[1;32mc:\\Users\\azureuser\\Desktop\\CodeNinjas-project\\.venv\\lib\\site-packages\\azure\\core\\tracing\\decorator.py:78\u001b[0m, in \u001b[0;36mdistributed_trace.<locals>.decorator.<locals>.wrapper_use_tracer\u001b[1;34m(*args, **kwargs)\u001b[0m\n\u001b[0;32m     76\u001b[0m span_impl_type \u001b[38;5;241m=\u001b[39m settings\u001b[38;5;241m.\u001b[39mtracing_implementation()\n\u001b[0;32m     77\u001b[0m \u001b[38;5;28;01mif\u001b[39;00m span_impl_type \u001b[38;5;129;01mis\u001b[39;00m \u001b[38;5;28;01mNone\u001b[39;00m:\n\u001b[1;32m---> 78\u001b[0m     \u001b[38;5;28;01mreturn\u001b[39;00m func(\u001b[38;5;241m*\u001b[39margs, \u001b[38;5;241m*\u001b[39m\u001b[38;5;241m*\u001b[39mkwargs)\n\u001b[0;32m     80\u001b[0m \u001b[38;5;66;03m# Merge span is parameter is set, but only if no explicit parent are passed\u001b[39;00m\n\u001b[0;32m     81\u001b[0m \u001b[38;5;28;01mif\u001b[39;00m merge_span \u001b[38;5;129;01mand\u001b[39;00m \u001b[38;5;129;01mnot\u001b[39;00m passed_in_parent:\n",
      "File \u001b[1;32mc:\\Users\\azureuser\\Desktop\\CodeNinjas-project\\.venv\\lib\\site-packages\\azure\\search\\documents\\_generated\\operations\\_documents_operations.py:747\u001b[0m, in \u001b[0;36mDocumentsOperations.search_post\u001b[1;34m(self, search_request, request_options, **kwargs)\u001b[0m\n\u001b[0;32m    744\u001b[0m _request\u001b[38;5;241m.\u001b[39murl \u001b[38;5;241m=\u001b[39m \u001b[38;5;28mself\u001b[39m\u001b[38;5;241m.\u001b[39m_client\u001b[38;5;241m.\u001b[39mformat_url(_request\u001b[38;5;241m.\u001b[39murl, \u001b[38;5;241m*\u001b[39m\u001b[38;5;241m*\u001b[39mpath_format_arguments)\n\u001b[0;32m    746\u001b[0m _stream \u001b[38;5;241m=\u001b[39m \u001b[38;5;28;01mFalse\u001b[39;00m\n\u001b[1;32m--> 747\u001b[0m pipeline_response: PipelineResponse \u001b[38;5;241m=\u001b[39m \u001b[38;5;28mself\u001b[39m\u001b[38;5;241m.\u001b[39m_client\u001b[38;5;241m.\u001b[39m_pipeline\u001b[38;5;241m.\u001b[39mrun(  \u001b[38;5;66;03m# pylint: disable=protected-access\u001b[39;00m\n\u001b[0;32m    748\u001b[0m     _request, stream\u001b[38;5;241m=\u001b[39m_stream, \u001b[38;5;241m*\u001b[39m\u001b[38;5;241m*\u001b[39mkwargs\n\u001b[0;32m    749\u001b[0m )\n\u001b[0;32m    751\u001b[0m response \u001b[38;5;241m=\u001b[39m pipeline_response\u001b[38;5;241m.\u001b[39mhttp_response\n\u001b[0;32m    753\u001b[0m \u001b[38;5;28;01mif\u001b[39;00m response\u001b[38;5;241m.\u001b[39mstatus_code \u001b[38;5;129;01mnot\u001b[39;00m \u001b[38;5;129;01min\u001b[39;00m [\u001b[38;5;241m200\u001b[39m]:\n",
      "File \u001b[1;32mc:\\Users\\azureuser\\Desktop\\CodeNinjas-project\\.venv\\lib\\site-packages\\azure\\core\\pipeline\\_base.py:230\u001b[0m, in \u001b[0;36mPipeline.run\u001b[1;34m(self, request, **kwargs)\u001b[0m\n\u001b[0;32m    228\u001b[0m pipeline_request: PipelineRequest[HTTPRequestType] \u001b[38;5;241m=\u001b[39m PipelineRequest(request, context)\n\u001b[0;32m    229\u001b[0m first_node \u001b[38;5;241m=\u001b[39m \u001b[38;5;28mself\u001b[39m\u001b[38;5;241m.\u001b[39m_impl_policies[\u001b[38;5;241m0\u001b[39m] \u001b[38;5;28;01mif\u001b[39;00m \u001b[38;5;28mself\u001b[39m\u001b[38;5;241m.\u001b[39m_impl_policies \u001b[38;5;28;01melse\u001b[39;00m _TransportRunner(\u001b[38;5;28mself\u001b[39m\u001b[38;5;241m.\u001b[39m_transport)\n\u001b[1;32m--> 230\u001b[0m \u001b[38;5;28;01mreturn\u001b[39;00m \u001b[43mfirst_node\u001b[49m\u001b[38;5;241;43m.\u001b[39;49m\u001b[43msend\u001b[49m\u001b[43m(\u001b[49m\u001b[43mpipeline_request\u001b[49m\u001b[43m)\u001b[49m\n",
      "File \u001b[1;32mc:\\Users\\azureuser\\Desktop\\CodeNinjas-project\\.venv\\lib\\site-packages\\azure\\core\\pipeline\\_base.py:86\u001b[0m, in \u001b[0;36m_SansIOHTTPPolicyRunner.send\u001b[1;34m(self, request)\u001b[0m\n\u001b[0;32m     84\u001b[0m _await_result(\u001b[38;5;28mself\u001b[39m\u001b[38;5;241m.\u001b[39m_policy\u001b[38;5;241m.\u001b[39mon_request, request)\n\u001b[0;32m     85\u001b[0m \u001b[38;5;28;01mtry\u001b[39;00m:\n\u001b[1;32m---> 86\u001b[0m     response \u001b[38;5;241m=\u001b[39m \u001b[38;5;28;43mself\u001b[39;49m\u001b[38;5;241;43m.\u001b[39;49m\u001b[43mnext\u001b[49m\u001b[38;5;241;43m.\u001b[39;49m\u001b[43msend\u001b[49m\u001b[43m(\u001b[49m\u001b[43mrequest\u001b[49m\u001b[43m)\u001b[49m\n\u001b[0;32m     87\u001b[0m \u001b[38;5;28;01mexcept\u001b[39;00m \u001b[38;5;167;01mException\u001b[39;00m:  \u001b[38;5;66;03m# pylint: disable=broad-except\u001b[39;00m\n\u001b[0;32m     88\u001b[0m     _await_result(\u001b[38;5;28mself\u001b[39m\u001b[38;5;241m.\u001b[39m_policy\u001b[38;5;241m.\u001b[39mon_exception, request)\n",
      "File \u001b[1;32mc:\\Users\\azureuser\\Desktop\\CodeNinjas-project\\.venv\\lib\\site-packages\\azure\\core\\pipeline\\_base.py:86\u001b[0m, in \u001b[0;36m_SansIOHTTPPolicyRunner.send\u001b[1;34m(self, request)\u001b[0m\n\u001b[0;32m     84\u001b[0m _await_result(\u001b[38;5;28mself\u001b[39m\u001b[38;5;241m.\u001b[39m_policy\u001b[38;5;241m.\u001b[39mon_request, request)\n\u001b[0;32m     85\u001b[0m \u001b[38;5;28;01mtry\u001b[39;00m:\n\u001b[1;32m---> 86\u001b[0m     response \u001b[38;5;241m=\u001b[39m \u001b[38;5;28;43mself\u001b[39;49m\u001b[38;5;241;43m.\u001b[39;49m\u001b[43mnext\u001b[49m\u001b[38;5;241;43m.\u001b[39;49m\u001b[43msend\u001b[49m\u001b[43m(\u001b[49m\u001b[43mrequest\u001b[49m\u001b[43m)\u001b[49m\n\u001b[0;32m     87\u001b[0m \u001b[38;5;28;01mexcept\u001b[39;00m \u001b[38;5;167;01mException\u001b[39;00m:  \u001b[38;5;66;03m# pylint: disable=broad-except\u001b[39;00m\n\u001b[0;32m     88\u001b[0m     _await_result(\u001b[38;5;28mself\u001b[39m\u001b[38;5;241m.\u001b[39m_policy\u001b[38;5;241m.\u001b[39mon_exception, request)\n",
      "    \u001b[1;31m[... skipping similar frames: _SansIOHTTPPolicyRunner.send at line 86 (2 times)]\u001b[0m\n",
      "File \u001b[1;32mc:\\Users\\azureuser\\Desktop\\CodeNinjas-project\\.venv\\lib\\site-packages\\azure\\core\\pipeline\\_base.py:86\u001b[0m, in \u001b[0;36m_SansIOHTTPPolicyRunner.send\u001b[1;34m(self, request)\u001b[0m\n\u001b[0;32m     84\u001b[0m _await_result(\u001b[38;5;28mself\u001b[39m\u001b[38;5;241m.\u001b[39m_policy\u001b[38;5;241m.\u001b[39mon_request, request)\n\u001b[0;32m     85\u001b[0m \u001b[38;5;28;01mtry\u001b[39;00m:\n\u001b[1;32m---> 86\u001b[0m     response \u001b[38;5;241m=\u001b[39m \u001b[38;5;28;43mself\u001b[39;49m\u001b[38;5;241;43m.\u001b[39;49m\u001b[43mnext\u001b[49m\u001b[38;5;241;43m.\u001b[39;49m\u001b[43msend\u001b[49m\u001b[43m(\u001b[49m\u001b[43mrequest\u001b[49m\u001b[43m)\u001b[49m\n\u001b[0;32m     87\u001b[0m \u001b[38;5;28;01mexcept\u001b[39;00m \u001b[38;5;167;01mException\u001b[39;00m:  \u001b[38;5;66;03m# pylint: disable=broad-except\u001b[39;00m\n\u001b[0;32m     88\u001b[0m     _await_result(\u001b[38;5;28mself\u001b[39m\u001b[38;5;241m.\u001b[39m_policy\u001b[38;5;241m.\u001b[39mon_exception, request)\n",
      "File \u001b[1;32mc:\\Users\\azureuser\\Desktop\\CodeNinjas-project\\.venv\\lib\\site-packages\\azure\\core\\pipeline\\policies\\_redirect.py:197\u001b[0m, in \u001b[0;36mRedirectPolicy.send\u001b[1;34m(self, request)\u001b[0m\n\u001b[0;32m    195\u001b[0m original_domain \u001b[38;5;241m=\u001b[39m get_domain(request\u001b[38;5;241m.\u001b[39mhttp_request\u001b[38;5;241m.\u001b[39murl) \u001b[38;5;28;01mif\u001b[39;00m redirect_settings[\u001b[38;5;124m\"\u001b[39m\u001b[38;5;124mallow\u001b[39m\u001b[38;5;124m\"\u001b[39m] \u001b[38;5;28;01melse\u001b[39;00m \u001b[38;5;28;01mNone\u001b[39;00m\n\u001b[0;32m    196\u001b[0m \u001b[38;5;28;01mwhile\u001b[39;00m retryable:\n\u001b[1;32m--> 197\u001b[0m     response \u001b[38;5;241m=\u001b[39m \u001b[38;5;28;43mself\u001b[39;49m\u001b[38;5;241;43m.\u001b[39;49m\u001b[43mnext\u001b[49m\u001b[38;5;241;43m.\u001b[39;49m\u001b[43msend\u001b[49m\u001b[43m(\u001b[49m\u001b[43mrequest\u001b[49m\u001b[43m)\u001b[49m\n\u001b[0;32m    198\u001b[0m     redirect_location \u001b[38;5;241m=\u001b[39m \u001b[38;5;28mself\u001b[39m\u001b[38;5;241m.\u001b[39mget_redirect_location(response)\n\u001b[0;32m    199\u001b[0m     \u001b[38;5;28;01mif\u001b[39;00m redirect_location \u001b[38;5;129;01mand\u001b[39;00m redirect_settings[\u001b[38;5;124m\"\u001b[39m\u001b[38;5;124mallow\u001b[39m\u001b[38;5;124m\"\u001b[39m]:\n",
      "File \u001b[1;32mc:\\Users\\azureuser\\Desktop\\CodeNinjas-project\\.venv\\lib\\site-packages\\azure\\core\\pipeline\\policies\\_retry.py:531\u001b[0m, in \u001b[0;36mRetryPolicy.send\u001b[1;34m(self, request)\u001b[0m\n\u001b[0;32m    529\u001b[0m \u001b[38;5;28;01mtry\u001b[39;00m:\n\u001b[0;32m    530\u001b[0m     \u001b[38;5;28mself\u001b[39m\u001b[38;5;241m.\u001b[39m_configure_timeout(request, absolute_timeout, is_response_error)\n\u001b[1;32m--> 531\u001b[0m     response \u001b[38;5;241m=\u001b[39m \u001b[38;5;28;43mself\u001b[39;49m\u001b[38;5;241;43m.\u001b[39;49m\u001b[43mnext\u001b[49m\u001b[38;5;241;43m.\u001b[39;49m\u001b[43msend\u001b[49m\u001b[43m(\u001b[49m\u001b[43mrequest\u001b[49m\u001b[43m)\u001b[49m\n\u001b[0;32m    532\u001b[0m     \u001b[38;5;28;01mif\u001b[39;00m \u001b[38;5;28mself\u001b[39m\u001b[38;5;241m.\u001b[39mis_retry(retry_settings, response):\n\u001b[0;32m    533\u001b[0m         retry_active \u001b[38;5;241m=\u001b[39m \u001b[38;5;28mself\u001b[39m\u001b[38;5;241m.\u001b[39mincrement(retry_settings, response\u001b[38;5;241m=\u001b[39mresponse)\n",
      "File \u001b[1;32mc:\\Users\\azureuser\\Desktop\\CodeNinjas-project\\.venv\\lib\\site-packages\\azure\\core\\pipeline\\policies\\_authentication.py:124\u001b[0m, in \u001b[0;36mBearerTokenCredentialPolicy.send\u001b[1;34m(self, request)\u001b[0m\n\u001b[0;32m    116\u001b[0m \u001b[38;5;28;01mdef\u001b[39;00m \u001b[38;5;21msend\u001b[39m(\u001b[38;5;28mself\u001b[39m, request: PipelineRequest[HTTPRequestType]) \u001b[38;5;241m-\u001b[39m\u001b[38;5;241m>\u001b[39m PipelineResponse[HTTPRequestType, HTTPResponseType]:\n\u001b[0;32m    117\u001b[0m \u001b[38;5;250m    \u001b[39m\u001b[38;5;124;03m\"\"\"Authorize request with a bearer token and send it to the next policy\u001b[39;00m\n\u001b[0;32m    118\u001b[0m \n\u001b[0;32m    119\u001b[0m \u001b[38;5;124;03m    :param request: The pipeline request object\u001b[39;00m\n\u001b[1;32m   (...)\u001b[0m\n\u001b[0;32m    122\u001b[0m \u001b[38;5;124;03m    :rtype: ~azure.core.pipeline.PipelineResponse\u001b[39;00m\n\u001b[0;32m    123\u001b[0m \u001b[38;5;124;03m    \"\"\"\u001b[39;00m\n\u001b[1;32m--> 124\u001b[0m     \u001b[38;5;28;43mself\u001b[39;49m\u001b[38;5;241;43m.\u001b[39;49m\u001b[43mon_request\u001b[49m\u001b[43m(\u001b[49m\u001b[43mrequest\u001b[49m\u001b[43m)\u001b[49m\n\u001b[0;32m    125\u001b[0m     \u001b[38;5;28;01mtry\u001b[39;00m:\n\u001b[0;32m    126\u001b[0m         response \u001b[38;5;241m=\u001b[39m \u001b[38;5;28mself\u001b[39m\u001b[38;5;241m.\u001b[39mnext\u001b[38;5;241m.\u001b[39msend(request)\n",
      "File \u001b[1;32mc:\\Users\\azureuser\\Desktop\\CodeNinjas-project\\.venv\\lib\\site-packages\\azure\\core\\pipeline\\policies\\_authentication.py:99\u001b[0m, in \u001b[0;36mBearerTokenCredentialPolicy.on_request\u001b[1;34m(self, request)\u001b[0m\n\u001b[0;32m     97\u001b[0m         \u001b[38;5;28mself\u001b[39m\u001b[38;5;241m.\u001b[39m_token \u001b[38;5;241m=\u001b[39m \u001b[38;5;28mself\u001b[39m\u001b[38;5;241m.\u001b[39m_credential\u001b[38;5;241m.\u001b[39mget_token(\u001b[38;5;241m*\u001b[39m\u001b[38;5;28mself\u001b[39m\u001b[38;5;241m.\u001b[39m_scopes, enable_cae\u001b[38;5;241m=\u001b[39m\u001b[38;5;28mself\u001b[39m\u001b[38;5;241m.\u001b[39m_enable_cae)\n\u001b[0;32m     98\u001b[0m     \u001b[38;5;28;01melse\u001b[39;00m:\n\u001b[1;32m---> 99\u001b[0m         \u001b[38;5;28mself\u001b[39m\u001b[38;5;241m.\u001b[39m_token \u001b[38;5;241m=\u001b[39m \u001b[38;5;28;43mself\u001b[39;49m\u001b[38;5;241;43m.\u001b[39;49m\u001b[43m_credential\u001b[49m\u001b[38;5;241;43m.\u001b[39;49m\u001b[43mget_token\u001b[49m(\u001b[38;5;241m*\u001b[39m\u001b[38;5;28mself\u001b[39m\u001b[38;5;241m.\u001b[39m_scopes)\n\u001b[0;32m    100\u001b[0m \u001b[38;5;28mself\u001b[39m\u001b[38;5;241m.\u001b[39m_update_headers(request\u001b[38;5;241m.\u001b[39mhttp_request\u001b[38;5;241m.\u001b[39mheaders, \u001b[38;5;28mself\u001b[39m\u001b[38;5;241m.\u001b[39m_token\u001b[38;5;241m.\u001b[39mtoken)\n",
      "\u001b[1;31mAttributeError\u001b[0m: 'str' object has no attribute 'get_token'"
     ]
    }
   ],
   "source": [
    "for i, r in enumerate(results):\n",
    "    print(f\"Result {i}: {r['content']}\")"
   ]
  },
  {
   "cell_type": "code",
   "execution_count": 96,
   "metadata": {},
   "outputs": [
    {
     "data": {
      "text/plain": [
       "<iterator object azure.core.paging.ItemPaged at 0x2648f689030>"
      ]
     },
     "execution_count": 96,
     "metadata": {},
     "output_type": "execute_result"
    }
   ],
   "source": [
    "results"
   ]
  }
 ],
 "metadata": {
  "kernelspec": {
   "display_name": ".venv",
   "language": "python",
   "name": "python3"
  },
  "language_info": {
   "codemirror_mode": {
    "name": "ipython",
    "version": 3
   },
   "file_extension": ".py",
   "mimetype": "text/x-python",
   "name": "python",
   "nbconvert_exporter": "python",
   "pygments_lexer": "ipython3",
   "version": "3.10.0"
  }
 },
 "nbformat": 4,
 "nbformat_minor": 2
}
